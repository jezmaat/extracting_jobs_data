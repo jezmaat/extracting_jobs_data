{
 "cells": [
  {
   "cell_type": "code",
   "execution_count": 99,
   "id": "74ef93ac",
   "metadata": {},
   "outputs": [],
   "source": [
    "from selenium import webdriver\n",
    "import time\n",
    "import pandas as pd\n",
    "import os\n",
    "import re\n",
    "\n",
    "from selenium.webdriver.support.select import Select\n",
    "from selenium.webdriver.support.ui import WebDriverWait\n",
    "from selenium.webdriver.common.by import By\n",
    "from selenium.webdriver.support import expected_conditions as EC\n",
    "\n",
    "from tqdm import tqdm_notebook as tqdm\n",
    "from selenium.common.exceptions import NoSuchElementException, StaleElementReferenceException\n",
    "\n",
    "import psycopg2 as ps\n",
    "\n",
    "import spacy\n",
    "from spacy.matcher import Matcher\n",
    "from spacy.matcher import PhraseMatcher"
   ]
  },
  {
   "cell_type": "markdown",
   "id": "d0e5e6cf",
   "metadata": {},
   "source": [
    "### Url para vagas de analista, engenheiro e cientista de dados nas últimas 24h"
   ]
  },
  {
   "cell_type": "code",
   "execution_count": 37,
   "id": "325b7b09",
   "metadata": {},
   "outputs": [],
   "source": [
    "url_ad_24 = 'https://www.linkedin.com/jobs/search?keywords=%22Analista%20De%20Dados%22&location=Brasil&locationId=&geoId=106057199&f_TPR=r86400&position=1&pageNum=0'\n",
    "url_ed_24 = 'https://www.linkedin.com/jobs/search?keywords=%22Engenheiro%20De%20Dados%22&location=Brasil&locationId=&geoId=106057199&f_TPR=r86400&position=1&pageNum=0'\n",
    "url_cd_go='https://www.linkedin.com/jobs/search?keywords=%22Cientista%20De%20Dados%22&location=Goi%C3%A2nia&geoId=&trk=public_jobs_jobs-search-bar_search-submit&position=1&pageNum=0'\n",
    "url_cd_24 = 'https://www.linkedin.com/jobs/search?keywords=%22Cientista%20De%20Dados%22&location=Brasil&locationId=&geoId=106057199&f_TPR=r86400&position=1&pageNum=0'"
   ]
  },
  {
   "cell_type": "markdown",
   "id": "fb641d74",
   "metadata": {},
   "source": [
    "### Criando objeto do driver do chrome para abrir as urls\n",
    "\n",
    "- Vale ressaltar que a url com a localização do driver deverá ser adaptada a localização do arquivo na sua máquina. Para fazer o download, acesse: https://chromedriver.chromium.org/downloads\n",
    "- Além disso, seu Login e senha deverão ser inseridos nos campos identificados abaixo"
   ]
  },
  {
   "cell_type": "code",
   "execution_count": 45,
   "id": "ed1d4d77",
   "metadata": {},
   "outputs": [],
   "source": [
    "driver = webdriver.Chrome(executable_path=r'C:\\\\Users\\\\t023953\\\\OneDrive - pti.org.br\\\\Documentos\\\\Data Science e IA\\\\TCC\\\\chromedriver_win32\\\\chromedriver.exe')\n",
    "driver.get(url_cd_go)\n",
    "driver.implicitly_wait(10)\n",
    "driver.maximize_window() \n",
    "driver.switch_to.window(driver.current_window_handle)\n",
    "driver.implicitly_wait(10)"
   ]
  },
  {
   "cell_type": "markdown",
   "id": "16e915de",
   "metadata": {},
   "source": [
    "### Coletando o número de vagas e realizando o scroll"
   ]
  },
  {
   "cell_type": "code",
   "execution_count": 46,
   "id": "0d843dad",
   "metadata": {},
   "outputs": [
    {
     "name": "stdout",
     "output_type": "stream",
     "text": [
      "3\n"
     ]
    }
   ],
   "source": [
    "n_vacancies= driver.find_element(By.CLASS_NAME,'results-context-header__job-count')\n",
    "if n_vacancies:\n",
    "    print(n_vacancies.text)\n",
    "else:\n",
    "    print('Classe não encontrada')\n",
    "\n",
    "n_vacancies = n_vacancies.text.replace(\".\",\"\")\n",
    "n_vacancies = int(n_vacancies)\n",
    "\n",
    "i=2\n",
    "while i<=((n_vacancies/25)+1): #Procurando por todas as páginas. Ele mostra de 25 em 25\n",
    "    driver.execute_script('window.scrollTo(0, document.body.scrollHeight);')\n",
    "    i+=1\n",
    "    \n",
    "    try:\n",
    "        x=driver.find_element_by_xpath('//*[@id=\"main-content\"]/section[2]/button')\n",
    "        \n",
    "        driver.execute_script(\"arguments[0].click();\", x) #encontra o caminho e clica no botão\n",
    "        time.sleep(3)\n",
    "    except: #caso não tenha mais botões\n",
    "        pass\n",
    "        time.sleep(4)"
   ]
  },
  {
   "cell_type": "markdown",
   "id": "ef3829ce",
   "metadata": {},
   "source": [
    "### Coletandos as informações de interesse das vagas:\n",
    "\n",
    "- Título\n",
    "- Nome da empresa\n",
    "- Link\n",
    "- Localização \n",
    "- Tipo de emprego \n",
    "- Função\n",
    "- Setor da empresa\n",
    "- Nível de experiência requerido\n",
    "- Descrição/texto"
   ]
  },
  {
   "cell_type": "code",
   "execution_count": 47,
   "id": "e1454520",
   "metadata": {},
   "outputs": [
    {
     "name": "stderr",
     "output_type": "stream",
     "text": [
      "<timed exec>:16: TqdmDeprecationWarning: This function will be removed in tqdm==5.0.0\n",
      "Please use `tqdm.notebook.tqdm` instead of `tqdm.tqdm_notebook`\n"
     ]
    },
    {
     "data": {
      "application/vnd.jupyter.widget-view+json": {
       "model_id": "3ce1f7c3568f4236a67fa9e4103a1643",
       "version_major": 2,
       "version_minor": 0
      },
      "text/plain": [
       "  0%|          | 0/3 [00:00<?, ?it/s]"
      ]
     },
     "metadata": {},
     "output_type": "display_data"
    },
    {
     "name": "stdout",
     "output_type": "stream",
     "text": [
      "CPU times: total: 109 ms\n",
      "Wall time: 1min 28s\n"
     ]
    }
   ],
   "source": [
    "%%time\n",
    "\n",
    "work_times = [] \n",
    "job_descs = []\n",
    "fields=[]\n",
    "functions=[]\n",
    "experiences=[]\n",
    "job_titles=[]\n",
    "companies_names=[]\n",
    "job_links=[]\n",
    "locations=[]\n",
    "job_locations=[]\n",
    "job_states=[]\n",
    "\n",
    "wait = WebDriverWait(driver, 10)\n",
    "job_cards = wait.until(EC.presence_of_all_elements_located((By.CLASS_NAME, 'base-search-card')))\n",
    "\n",
    "for job_card in tqdm(job_cards):\n",
    "    time.sleep(8)\n",
    "    try:\n",
    "       #Pegando a url\n",
    "        job_card.click()\n",
    "        job_link = driver.current_url\n",
    "    except Exception:\n",
    "        job_link = None\n",
    "    finally:\n",
    "      \n",
    "        driver.back()\n",
    "        wait.until(EC.visibility_of_any_elements_located((By.CLASS_NAME, 'base-search-card')))\n",
    "    \n",
    "    #Título da vaga\n",
    "    try:\n",
    "        job_title = job_card.find_element(By.CLASS_NAME, 'base-search-card__title').text\n",
    "    except Exception:\n",
    "        job_title = None\n",
    "\n",
    "    #Nome da empresa\n",
    "    try:\n",
    "        company = job_card.find_element(By.CLASS_NAME, 'base-search-card__subtitle').text\n",
    "    except Exception:\n",
    "        company = None\n",
    "    \n",
    "    #Localização\n",
    "    try:\n",
    "        location_text = job_card.find_element(By.CLASS_NAME, 'job-search-card__location').text\n",
    "        job_location, job_state = location_text.split(\", \")\n",
    "    except Exception:\n",
    "        job_location = job_state = None\n",
    "        \n",
    "    if job_location is None:\n",
    "        job_location = location_text\n",
    "    \n",
    "    time.sleep(3)\n",
    "    # clicando no botão para exibir mais detalhes da vaga\n",
    "    driver.find_element_by_xpath('/html/body/div[1]/div/section/div[2]/div/section[1]/div/div/section/button[1]').click()\n",
    "    \n",
    "     # Nível de experiência\n",
    "    try:\n",
    "        experience = driver.find_element_by_xpath('/html/body/div[1]/div/section/div[2]/div/section[1]/div/ul/li[1]/span').text\n",
    "    except (NoSuchElementException, StaleElementReferenceException):\n",
    "        experience = None\n",
    "        \n",
    "\n",
    "    # Tipo de emprego (tempo integral, etc)\n",
    "    try:\n",
    "        work_time = driver.find_element_by_xpath('/html/body/div[1]/div/section/div[2]/div/section[1]/div/ul/li[2]/span').text\n",
    "    except (NoSuchElementException, StaleElementReferenceException):\n",
    "        work_time = None\n",
    "\n",
    "    # Setores\n",
    "    try: \n",
    "        field = driver.find_element_by_xpath('/html/body/div[1]/div/section/div[2]/div/section[1]/div/ul/li[4]/span').text\n",
    "    except (NoSuchElementException, StaleElementReferenceException):\n",
    "        field = None\n",
    "\n",
    "    # Função\n",
    "    try: \n",
    "        function = driver.find_element_by_xpath('/html/body/div[1]/div/section/div[2]/div/section[1]/div/ul/li[3]/span').text\n",
    "    except (NoSuchElementException, StaleElementReferenceException):\n",
    "        function = None\n",
    "    \n",
    "    # Descrição da vaga \n",
    "    try: \n",
    "        div = driver.find_element_by_xpath('/html/body/div[1]/div/section/div[2]/div/section[1]/div/div/section/div')\n",
    "        text_div = div.text\n",
    "    except (NoSuchElementException, StaleElementReferenceException):\n",
    "        text_div = None\n",
    "    \n",
    "    time.sleep(8)\n",
    "    locations.append(location_text)\n",
    "    job_locations.append(job_location)\n",
    "    job_states.append(job_state)\n",
    "    job_links.append(job_link)\n",
    "    job_titles.append(job_title)\n",
    "    companies_names.append(company)\n",
    "    experiences.append(experience)\n",
    "    work_times.append(work_time)\n",
    "    fields.append(field)\n",
    "    functions.append(function)\n",
    "    job_descs.append(text_div)"
   ]
  },
  {
   "cell_type": "markdown",
   "id": "03e0d92c",
   "metadata": {},
   "source": [
    "### Visualizando os 5 primeiros elementos das listas geradas e seus tamanhos, para conferir se estão iguais"
   ]
  },
  {
   "cell_type": "code",
   "execution_count": 52,
   "id": "0a1bdbbf",
   "metadata": {},
   "outputs": [
    {
     "name": "stdout",
     "output_type": "stream",
     "text": [
      "Dados:\n",
      "Localização: ['Goiânia, GO', 'Goiânia, GO', 'Goiânia, GO']\n",
      "Município: ['Goiânia', 'Goiânia', 'Goiânia']\n",
      "Estado: ['GO', 'GO', 'GO']\n",
      "Link: ['https://www.linkedin.com/jobs/search?keywords=%22Cientista%20De%20Dados%22&location=Goi%C3%A2nia&trk=public_jobs_jobs-search-bar_search-submit&position=1&pageNum=0&currentJobId=3612929000', 'https://www.linkedin.com/jobs/search?keywords=%22Cientista%20De%20Dados%22&location=Goi%C3%A2nia&trk=public_jobs_jobs-search-bar_search-submit&position=2&pageNum=0&currentJobId=3612718687', 'https://www.linkedin.com/jobs/search?keywords=%22Cientista%20De%20Dados%22&location=Goi%C3%A2nia&trk=public_jobs_jobs-search-bar_search-submit&position=3&pageNum=0&currentJobId=3628742869']\n",
      "Título: ['Pessoa Cientista de Dados Sênior', 'Cientista de Dados Sênior', 'Cientista de Dados Sênior']\n",
      "Empresa: ['Minsait', 'Minsait', 'Empresa Confidencial']\n",
      "Nível de experiência: ['Não aplicável', 'Não aplicável', 'Tempo integral']\n",
      "Tipo de emprego: ['Tempo integral', 'Tempo integral', None]\n",
      "Setores: ['Serviços e consultoria de TI', 'Serviços e consultoria de TI', None]\n",
      "Função: ['Engenharia e Tecnologia da informação', 'Engenharia e Tecnologia da informação', None]\n",
      "Descrição: ['Somos aproximadamente 50k Minsaiters no Mundo e mais de 9k Minsaiters no Brasil e estamos presentes nas maiores empresas em todos os setores. Nossa estrutura permite participar de projetos globais e proporciona um ambiente colaborativo que nos certifica em GreatPlacesToWork e planos diferenciados para Jovens Profisionais também reconhecidos pela Employers for Youth.\\n\\nVocê atuará no nosso time de Cientista de Dados em um projeto estratégico, utilizando metodologias ágeis e em um ambiente de inovação.\\n\\nBuscamos profissionais com senso de dono, comprometidos com o sucesso do nosso cliente e com o desenvolvimento da sua carreira dentro da Minsait\\n\\nVocê será um pilar fundamental nos melhores e maiores projetos de TI do Brasil e em nível global.\\n\\nResponsabilidades e atribuições\\n\\nConhecimento sobre Arquitetura de Big Data, bancos de dados relacionais, colunares, banco de dados NoSQL, dados estruturados e não estruturados Exemplos: bancos de dados relacionais como o MySQL e PostgreSQL, bancos de dados NoSQL como o MongoDB e Cassandra, ou sistemas de armazenamento distribuídos como o Apache Hadoop e o Apache Spark.\\n\\nPré-processamento dos dados\\n\\nConhecimento em Machine Learning, Inteligência Artificial e NLP\\n\\nConhecimento em Linguagem SQL\\n\\nConhecimento sobre Tratamento, organização e limpeza e estruturação de dados\\n\\nLinguagens de Programação que permitam a execução dessas tarefas\\n\\nLinguagem Python\\n\\nConhecimento em GIT e GITLAB\\n\\nConhecimento em R e RStudio\\n\\nAmbientes de desenvolvimento integrado (IDE): Jupyter Notebook\\n\\nFerramentas de visualização de dados como por exemplo Matplotlib, Seaborn e Plotly para Python, e o ggplot2 para R. Além disso, ferramentas específicas de visualização, como o Tableau e o Power BI dentre outras é um diferencial.\\n\\nRequisitos e qualificações\\n\\nCurso Superior completo em área de Tecnologia da Informação, Administração, Matemática, Estatística, Economia; ou Curso Superior completo em áreas estatísticas correlatas\\n\\nCapacidade de entendimento do negócio para entender os dados (análise exploratória dos dados)\\n\\nCompreender todas as fases do processo de desenvolvimento de projetos de mineração de dados\\n\\nCapacidade para entender os dados (análise exploratória dos dados)\\n\\nCeticismo de suposições existentes – para descobrir soluções para os desafios de negócios\\n\\nInformações adicionais\\n\\nTRABALHE NA MINSAIT\\nModelo de contratação CLT\\nPlano de Saúde subsidiado pela empresa para o titular\\nOpção de inclusão de dependentes no Plano de Saúde com desconto em folha com desconto em folha de pagamento\\nAssistência Odontológica (opcional)\\nOpção de inclusão de dependentes no Plano de Assistência Odontológica com desconto em folha de pagamento\\nVale Refeição OU Alimentação\\nVale Transporte (opcional)\\nGympass (Acesso a mais de 700 academias em todo o Brasil com planos a partir de R$ 39,90 descontado em folha de pagamento)\\nOpção de inclusão de dependentes no Gympass (até 03 dependentes - pago via cartão de crédito)\\nParcerias com grandes marcas de consumo\\nConvênio com o SESC para titular e dependentes\\nConvênios para descontos com instituições de ensino (graduação e pós-graduação) e escola de idiomas\\nSeguro de vida em grupo', 'A Minsait é uma companhia global de tecnologia com mais de 25 anos de atuação no Brasil, focada em inovação e líder em A Minsait, uma empresa do grupo Indra Company. É a maior empresa espanhola de Transformação Digital, presente em mais de 100 países e há quase 30 anos no Brasil. Combinamos nossa experiência em cloud, segurança, payments e phygital com a tecnologia mais inovadora para impulsionar nossos negócios, gerando um impacto positivo na sociedade.\\n\\nSomos aproximadamente 50k Minsaiters no Mundo e mais de 9k Minsaiters no Brasil e estamos presentes nas maiores empresas em todos os setores. Nossa estrutura permite participar de projetos globais e proporciona um ambiente colaborativo que nos certifica em GreatPlacesToWork e planos diferenciados para Jovens Profisionais também reconhecidos pela Employers for Youth.\\n\\nNosso objetivo é liderar uma revolução tecnológica mais sustentável. Venha ser um Minsaiter!\\n\\nResponsabilidades e atribuições\\nCompreender todas as fases do processo de desenvolvimento de projetos de BI;\\nArquitetura de Big Data, bancos de dados relacionais, colunares, banco de dados NoSQL, dados estruturados e não estruturados;\\nCompreender todas as fases do processo de desenvolvimento de projetos de mineração de dados; Capacidade de entendimento do negócio;\\nCapacidade para entender os dados (análise exploratória dos dados);\\nPré-processamento dos dados;\\nAplicação das capacidades analíticas Machine Learning, Inteligência Artificial;\\nLinguagem SQL;\\nTratamento, organização e limpeza e estruturação de dados;\\nCeticismo de suposições existentes para descobrir soluções para os desafios de negócios;\\nIdeação e produção de Soluções de Análise de Dados Data Science descobrindo relacionamento entre os dados, mesmo sem regras previamente definidas; Ideação e produção de visões e formas de apresentação de indicadores;\\nRealização de provas de conceito (PoC);\\nLinguagens de Programação que permitam a execução dessas tarefas, Gestão no suporte aos produtos e soluções de Business Intelligence (BI) & Analytics;\\nModelagem de dados e gerenciamento de múltiplas bases de dados;\\nDocumentação, descrição e conceituação de informações e metadados;\\nAdministração e segurança de dados.\\n\\nRequisitos e qualificações\\nLinguagens de programação orientadas a dados, tais como SQL e NoSQL;\\nConhecimento em ferramentas de Big Data;\\nCurso Superior completo em área de Tecnologia da Informação ou áreas correlatas; ou Curso Superior completo em qualquer área e Pós-graduação na área Tecnologia da Informação;\\nInglês técnico.\\nResidir em Goiânia;\\nAtuação 100% presencial.\\n\\nInformações adicionais\\n\\nTrabalhe na Minsait:\\nModelo de contratação CLT;\\nPlano de Saúde subsidiado pela empresa para o titular;\\nOpção de inclusão de dependentes no Plano de Saúde com desconto em folha com desconto em folha de pagamento;\\nAssistência Odontológica (opcional);\\nOpção de inclusão de dependentes no Plano de Assistência Odontológica com desconto em folha de pagamento;\\nVale Refeição OU Alimentação;\\nVale Transporte (opcional);\\nGympass (Acesso a mais de 700 academias em todo o Brasil com planos a partir de R$ 29,90 descontado em folha de pagamento);\\nOpção de inclusão de dependentes no Gympass (até 03 dependentes - pago via cartão de crédito);\\nParcerias com grandes marcas de consumo;\\nConvênios para descontos com instituições de ensino (graduação e pós-graduação) e escola de idiomas;\\nSeguro de vida em grupo.', 'Contratação: CLT\\nFormato: Presencial\\nLocalidade: Goiânia- GO\\n Benefícios\\n ￭       Plano de Saúde subsidiado pela empresa para o titular;\\n￭       Opção de inclusão de dependentes no Plano de Saúde com desconto em folha com desconto em folha de pagamento;\\n￭       Assistência Odontológica (opcional);\\n￭       Opção de inclusão de dependentes no Plano de Assistência Odontológica com desconto em folha de pagamento;\\n￭       Vale Refeição ou Alimentação;\\n￭       Vale Transporte (opcional);\\n￭       Gympass (Acesso a mais de 700 academias em todo o Brasil com planos a partir de R$ 29,90 descontado em folha de pagamento);\\n￭       Opção de inclusão de dependentes no Gympass (até 03 dependentes - pago via cartão de crédito);\\n￭       Parcerias com grandes marcas de consumo;\\n￭       Convênios para descontos com instituições de ensino (graduação e pós-graduação) e escola de idiomas;\\n￭       Seguro de vida em grupo.\\nRESPONSABILIDADES E ATRIBUIÇÕES\\n Conhecimento sobre Arquitetura de Big Data, bancos de dados relacionais, colunares, banco de dados NoSQL, dados estruturados e não estruturados Exemplos: bancos de dados relacionais como o MySQL e PostgreSQL, bancos de dados NoSQL como o MongoDB e Cassandra, ou sistemas de armazenamento distribuídos como o Apache Hadoop e o Apache Spark. \\nPré-processamento dos dados \\nConhecimento em Machine Learning, Inteligência Artificial e NLP \\nConhecimento em Linguagem SQL \\nConhecimento sobre Tratamento, organização e limpeza e estruturação de dados \\nLinguagens de Programação que permitam a execução dessas tarefas \\nLinguagem Python \\nConhecimento em GIT e GITLAB \\nConhecimento em R e RStudio \\nAmbientes de desenvolvimento integrado (IDE): Jupyter Notebook \\nFerramentas de visualização de dados como por exemplo Matplotlib, Seaborn e Plotly para Python, e o ggplot2 para R. Além disso, ferramentas específicas de visualização, como o Tableau e o Power BI dentre outras é um diferencial. \\n REQUISITOS E QUALIFICAÇÕES\\n Curso Superior completo em área de Tecnologia da Informação, Administração, Matemática, Estatística, Economia; ou Curso Superior completo em áreas estatísticas correlatas.\\nCapacidade de entendimento do negócio para entender os dados (análise exploratória dos dados);\\nCompreender todas as fases do processo de desenvolvimento de projetos de mineração de dados; \\nCapacidade para entender os dados (análise exploratória dos dados);\\nCeticismo de suposições existentes – para descobrir soluções para os desafios de negócios; ']\n",
      "Tamanhos das listas:\n",
      "Localização: 3\n",
      "Município: 3\n",
      "Estado: 3\n",
      "Link: 3\n",
      "Título: 3\n",
      "Empresa: 3\n",
      "Nível de experiência: 3\n",
      "Tipo de emprego: 3\n",
      "Setores: 3\n",
      "Função: 3\n",
      "Descrição: 3\n"
     ]
    }
   ],
   "source": [
    "print(\"Dados:\")\n",
    "print(\"Localização:\", locations[:5])\n",
    "print(\"Município:\", job_locations[:5])\n",
    "print(\"Estado:\", job_states[:5])\n",
    "print(\"Link:\", job_links[:5])\n",
    "print(\"Título:\", job_titles[:5])\n",
    "print(\"Empresa:\", companies_names[:5])\n",
    "print(\"Nível de experiência:\", experiences[:5])\n",
    "print(\"Tipo de emprego:\", work_times[:5])\n",
    "print(\"Setores:\", fields[:5])\n",
    "print(\"Função:\", functions[:5])\n",
    "print(\"Descrição:\", job_descs[:5])\n",
    "\n",
    "print(\"Tamanhos das listas:\")\n",
    "print(\"Localização:\", len(locations))\n",
    "print(\"Município:\", len(job_locations))\n",
    "print(\"Estado:\", len(job_states))\n",
    "print(\"Link:\", len(job_links))\n",
    "print(\"Título:\", len(job_titles))\n",
    "print(\"Empresa:\", len(companies_names))\n",
    "print(\"Nível de experiência:\", len(experiences))\n",
    "print(\"Tipo de emprego:\", len(work_times))\n",
    "print(\"Setores:\", len(fields))\n",
    "print(\"Função:\", len(functions))\n",
    "print(\"Descrição:\", len(job_descs))"
   ]
  },
  {
   "cell_type": "markdown",
   "id": "80d664e8",
   "metadata": {},
   "source": [
    "### Isolando os ids das vagas a partir de seus links:\n",
    "\n",
    "- O objetivo é verificar se as vagas já não existem no banco de dados, para evitar registros duplicados"
   ]
  },
  {
   "cell_type": "code",
   "execution_count": 53,
   "id": "cdb1ac28",
   "metadata": {},
   "outputs": [
    {
     "name": "stdout",
     "output_type": "stream",
     "text": [
      "3\n",
      "['3612929000', '3612718687', '3628742869']\n"
     ]
    }
   ],
   "source": [
    "from urllib.parse import urlparse, parse_qs\n",
    "def isolate_link_ids(job_links):\n",
    "\n",
    "    job_ids = []\n",
    "\n",
    "    for link in job_links:\n",
    "        url = urlparse(link)\n",
    "        parameters = parse_qs(url.query)\n",
    "        job_id = parameters.get('currentJobId', [''][0])\n",
    "        job_ids.extend(job_id)\n",
    "    \n",
    "    return job_ids\n",
    "\n",
    "job_ids = isolate_link_ids(job_links)\n",
    "print(len(job_ids))\n",
    "print(job_ids)"
   ]
  },
  {
   "cell_type": "markdown",
   "id": "0d83bd58",
   "metadata": {},
   "source": [
    "### Criando data_frame para eliminar os registros de vagas que não contenham os títulos de \"Analista de Dados\", \"Cientista de Dados\" e \"Engenheiro de Dados\". \n",
    "\n",
    "- Tal processo foi necessário, visto que em alguns casos - como Engenheiro de Dados - por mais que a string de busca fosse essa, resultados como \"Engenheiro Civil\" e \"Engenheiro Eletricista\" eram retornados"
   ]
  },
  {
   "cell_type": "code",
   "execution_count": 58,
   "id": "df2bb361",
   "metadata": {},
   "outputs": [
    {
     "name": "stdout",
     "output_type": "stream",
     "text": [
      "     locations job_locations job_states  \\\n",
      "0  Goiânia, GO       Goiânia         GO   \n",
      "1  Goiânia, GO       Goiânia         GO   \n",
      "2  Goiânia, GO       Goiânia         GO   \n",
      "\n",
      "                                           job_links  \\\n",
      "0  https://www.linkedin.com/jobs/search?keywords=...   \n",
      "1  https://www.linkedin.com/jobs/search?keywords=...   \n",
      "2  https://www.linkedin.com/jobs/search?keywords=...   \n",
      "\n",
      "                         job_titles       companies_names     experiences  \\\n",
      "0  Pessoa Cientista de Dados Sênior               Minsait   Não aplicável   \n",
      "1         Cientista de Dados Sênior               Minsait   Não aplicável   \n",
      "2         Cientista de Dados Sênior  Empresa Confidencial  Tempo integral   \n",
      "\n",
      "       work_times                        fields  \\\n",
      "0  Tempo integral  Serviços e consultoria de TI   \n",
      "1  Tempo integral  Serviços e consultoria de TI   \n",
      "2            None                          None   \n",
      "\n",
      "                               functions  \\\n",
      "0  Engenharia e Tecnologia da informação   \n",
      "1  Engenharia e Tecnologia da informação   \n",
      "2                                   None   \n",
      "\n",
      "                                    job_descriptions     job_ids  \n",
      "0  Somos aproximadamente 50k Minsaiters no Mundo ...  3612929000  \n",
      "1  A Minsait é uma companhia global de tecnologia...  3612718687  \n",
      "2  Contratação: CLT\\nFormato: Presencial\\nLocalid...  3628742869  \n"
     ]
    },
    {
     "name": "stderr",
     "output_type": "stream",
     "text": [
      "C:\\Users\\t023953\\AppData\\Local\\Temp\\ipykernel_2976\\698470714.py:20: UserWarning: This pattern is interpreted as a regular expression, and has match groups. To actually get the groups, use str.extract.\n",
      "  df_filtered = df[df['job_titles'].str.contains(job_titles_to_maintain, case=False)]\n"
     ]
    }
   ],
   "source": [
    "import pandas as pd\n",
    "\n",
    "df = pd.DataFrame({\n",
    "    'locations': locations,\n",
    "    'job_locations': job_locations,\n",
    "    'job_states': job_states,\n",
    "    'job_links': job_links,\n",
    "    'job_titles': job_titles,\n",
    "    'companies_names': companies_names,\n",
    "    'experiences': experiences,\n",
    "    'work_times': work_times,\n",
    "    'fields': fields,\n",
    "    'functions': functions,\n",
    "    'job_descriptions': job_descs,\n",
    "    'job_ids': job_ids\n",
    "})\n",
    "\n",
    "#Eliminando vagas na qual o título não contem os textos \"Analista, Cientista ou engenheiro de dados, assim como suas versões em inglês\"\n",
    "job_titles_to_maintain = '(analista|cientista|engenheiro)\\s*de\\s*dados|data\\s*(analyst|scientist|engineer)'\n",
    "df_filtered = df[df['job_titles'].str.contains(job_titles_to_maintain, case=False)]\n",
    "print(df_filtered)"
   ]
  },
  {
   "cell_type": "markdown",
   "id": "36e951e4",
   "metadata": {},
   "source": [
    "### Verificando se as datas já não existem no banco pelo id da vaga. Caso esteja, remove do dataframe\n",
    "\n",
    "- Para esse trabalho, utilizou-se o gerenciador de banco de dados PostgreSQL. Porém, o código é adaptável. "
   ]
  },
  {
   "cell_type": "code",
   "execution_count": 59,
   "id": "fdcc2072",
   "metadata": {},
   "outputs": [
    {
     "name": "stdout",
     "output_type": "stream",
     "text": [
      "['3612929000', '3612718687']\n",
      "     locations job_locations job_states  \\\n",
      "2  Goiânia, GO       Goiânia         GO   \n",
      "\n",
      "                                           job_links  \\\n",
      "2  https://www.linkedin.com/jobs/search?keywords=...   \n",
      "\n",
      "                  job_titles       companies_names     experiences work_times  \\\n",
      "2  Cientista de Dados Sênior  Empresa Confidencial  Tempo integral       None   \n",
      "\n",
      "  fields functions                                   job_descriptions  \\\n",
      "2   None      None  Contratação: CLT\\nFormato: Presencial\\nLocalid...   \n",
      "\n",
      "      job_ids  \n",
      "2  3628742869  \n"
     ]
    }
   ],
   "source": [
    "import psycopg2 as ps\n",
    "\n",
    "# create connection\n",
    "connection = ps.connect(\n",
    "    host='localhost',\n",
    "    database='database', #entrar com os dados da sua database\n",
    "    user='user', #entrar com seu user\n",
    "    password='senha' #entrar com sua senha\n",
    ")\n",
    "\n",
    "existing_job_links = []\n",
    "\n",
    "with connection:\n",
    "    with connection.cursor() as cursor:\n",
    "        query = \"SELECT link_id FROM jobs WHERE link_id IN %s\"\n",
    "        cursor.execute(query, (tuple(job_ids),))\n",
    "        rows = cursor.fetchall()\n",
    "        for row in rows:\n",
    "            existing_job_links.append(row[0])\n",
    "            \n",
    "print(existing_job_links)\n",
    "\n",
    "df_filtered = df_filtered[~df_filtered['job_ids'].isin(existing_job_links)]\n",
    "print(df_filtered)\n"
   ]
  },
  {
   "cell_type": "markdown",
   "id": "f51966e8",
   "metadata": {},
   "source": [
    "### Inserindo as vagas no banco de dados\n",
    "\n",
    "- Nesse etapa, foi setada a coluna \"categoria\" de acordo com os títulos da vaga\n",
    "- Além disso, tendo em vista que a classificação do LinkedIn para o nível de senioridade das vagas não é tão precisa, resolvi extrair dos títulos das próprias vagas"
   ]
  },
  {
   "cell_type": "code",
   "execution_count": 66,
   "id": "e165ffb0",
   "metadata": {},
   "outputs": [],
   "source": [
    "list_of_seniority=['Estágio', 'Estagiário', 'Estagiario', 'Júnior', 'Jr','Estagio', 'Pleno a Sênior', 'Junior', 'Pleno', 'PL', 'Sênior', 'Senior', 'Sr', 'I', 'II', 'III', '1', '2', '3']\n",
    "def map_experience_category(level):\n",
    "    if level.lower() in ['estágio', 'estagiário', 'estagio']:\n",
    "        return 'Estagiário'\n",
    "    elif level.lower() in ['júnior', 'jr', 'i', '1', 'junior']:\n",
    "        return 'Júnior'\n",
    "    elif level.lower() in ['pleno', 'pl', 'ii', '2']:\n",
    "        return 'Pleno'\n",
    "    elif level.lower() in ['sênior', 'senior', 'sr', 'iii', '3']:\n",
    "        return 'Sênior'\n",
    "    else:\n",
    "        return level\n",
    "    \n",
    "def find_seniority(title):\n",
    "    matches = [seniority for seniority in list_of_seniority if re.search(fr\"\\b{seniority}\\b\", title, flags=re.IGNORECASE)]\n",
    "    return matches[0] if matches else \"Não Informado\""
   ]
  },
  {
   "cell_type": "code",
   "execution_count": 68,
   "id": "4554ff92",
   "metadata": {},
   "outputs": [],
   "source": [
    "import psycopg2 as ps\n",
    "\n",
    "connection = ps.connect(\n",
    "    host='localhost',\n",
    "    database='database', #sua database\n",
    "    user='user', #seu usuário\n",
    "    password='senha' #sua senha\n",
    ")\n",
    "\n",
    "cursor = connection.cursor()\n",
    "job_ids = isolate_link_ids(job_links)\n",
    "\n",
    "#encontra o nível de senioridade\n",
    "df_filtered['level_of_experience']=None\n",
    "df_filtered['level_of_experience']=df_filtered['job_titles'].apply(find_seniority)\n",
    "\n",
    "for index, row in df_filtered.iterrows():\n",
    "    job_title = row['job_titles']\n",
    "    category = ''\n",
    "\n",
    "    # Setar a categoria\n",
    "    if 'cientista de dados' in job_title.lower() or 'cientista dados' in job_title.lower() or 'data scientist' in job_title.lower():\n",
    "        category = 'Cientista de Dados'\n",
    "    elif 'engenheiro de dados' in job_title.lower() or 'engenheiro dados' in job_title.lower() or 'data engineer' in job_title.lower():\n",
    "        category = 'Engenheiro de Dados'\n",
    "    elif 'analista de dados' in job_title.lower() or 'analista dados' in job_title.lower() or 'data analyst' in job_title.lower():\n",
    "        category = 'Analista de Dados'\n",
    "\n",
    "    # Executar a inserção no banco de dados\n",
    "    cursor.execute(\n",
    "        \"\"\"\n",
    "        INSERT INTO jobs_2_teste (job_title, level_of_experience, job_link, job_desc, job_location, job_state, company_name, experience, work_time, field, function, link_id, category)\n",
    "        VALUES(%s, %s, %s, %s, %s, %s, %s, %s, %s, %s, %s, %s, %s)\n",
    "        \"\"\",\n",
    "        (row['job_titles'], row['level_of_experience'], row['job_links'], row['job_descriptions'], row['job_locations'], row['job_states'], row['companies_names'], row['experiences'], row['work_times'], row['fields'], row['functions'], job_ids[index], category)\n",
    "    )\n",
    "\n",
    "connection.commit()\n",
    "cursor.close()\n",
    "connection.close()"
   ]
  },
  {
   "cell_type": "markdown",
   "id": "f0e3cbc5",
   "metadata": {},
   "source": [
    "### Extração das modalidades de trabalho:\n",
    "\n",
    "- Para a extração das modalidades de trabalho, foi necessário fazer Login. Os demais dados foram extraídos sem a realização do login, visto que a localização XPATH dos campos sofria menos alteração se nenhum usuário tivesse sido informado, já que com login, mais dados apareciam e consequentemente a estrutura da página variava com mais frequência. Contudo, para a extração da informação de modalidade de trabalho, tal trabalho foi necessário"
   ]
  },
  {
   "cell_type": "code",
   "execution_count": 98,
   "id": "c549695e",
   "metadata": {},
   "outputs": [
    {
     "name": "stderr",
     "output_type": "stream",
     "text": [
      "C:\\Users\\t023953\\AppData\\Local\\Temp\\ipykernel_2976\\3867213903.py:12: TqdmDeprecationWarning: This function will be removed in tqdm==5.0.0\n",
      "Please use `tqdm.notebook.tqdm` instead of `tqdm.tqdm_notebook`\n",
      "  for index, row in tqdm(df_filtered.iterrows(), total=len(df_filtered)):\n"
     ]
    },
    {
     "data": {
      "application/vnd.jupyter.widget-view+json": {
       "model_id": "807ba21bfa4b413db72e08eabaa695ab",
       "version_major": 2,
       "version_minor": 0
      },
      "text/plain": [
       "  0%|          | 0/1 [00:00<?, ?it/s]"
      ]
     },
     "metadata": {},
     "output_type": "display_data"
    }
   ],
   "source": [
    "driver = webdriver.Chrome(executable_path=r'C:\\\\Users\\\\t023953\\\\OneDrive - pti.org.br\\\\Documentos\\\\Data Science e IA\\\\TCC\\\\chromedriver_win32\\\\chromedriver.exe')\n",
    "driver.get('https://br.linkedin.com/?original_referer=')\n",
    "driver.refresh()\n",
    "driver.find_element_by_xpath('//*[@id=\"session_key\"]').send_keys(\"email\") #insira aqui o seu e-mail\n",
    "driver.find_element_by_xpath('//*[@id=\"session_password\"]').send_keys(\"senha\") #insira aqui sua senha\n",
    "time.sleep(1)\n",
    "\n",
    "driver.find_element_by_xpath('//*[@id=\"main-content\"]/section[1]/div/div/form/div[2]/button').click()\n",
    "\n",
    "df_filtered['work_models'] = None\n",
    "i = 0\n",
    "for index, row in tqdm(df_filtered.iterrows(), total=len(df_filtered)):\n",
    "    id = row['job_ids']\n",
    "    link = row['job_links']\n",
    "    model = row['work_models']\n",
    "\n",
    "    try:\n",
    "        driver.get(link)\n",
    "        time.sleep(4)\n",
    "        try:\n",
    "            model = driver.find_element_by_xpath('//*[@id=\"main\"]/div/div[2]/div/div[2]/div[1]/div/div[1]/div/div[1]/div[1]/div[2]/span[1]/span[3]').text\n",
    "        except:\n",
    "            model = None\n",
    "        \n",
    "        df_filtered.at[index, 'work_models'] = model  \n",
    "\n",
    "    except:\n",
    "        pass\n",
    "    \n",
    "    time.sleep(2)\n",
    "    i += 1\n",
    "    \n",
    "\n",
    "#atualizando os dados no banco\n",
    "connection = ps.connect(\n",
    "    host='localhost',\n",
    "    database='tcc_pucrs',\n",
    "    user='postgres',\n",
    "    password='postgres'\n",
    ")\n",
    "\n",
    "cursor = connection.cursor()\n",
    "\n",
    "for index, row in df_filtered.iterrows():\n",
    "    work_model = row['work_models']\n",
    "    job_id = row['job_ids']\n",
    "    query = f\"UPDATE jobs SET work_model = '{work_model}' WHERE link_id = '{str(job_id)}';\"\n",
    "    cursor.execute(query)\n",
    "\n",
    "# Confirmar as alterações e fechar a conexão\n",
    "connection.commit()\n",
    "cursor.close()\n",
    "connection.close()"
   ]
  },
  {
   "cell_type": "markdown",
   "id": "bcd94dfc",
   "metadata": {},
   "source": [
    "# --------------------------------SEÇÃO 2: ANÁLISE DE KEY-WORDS--------------------------"
   ]
  },
  {
   "cell_type": "markdown",
   "id": "15a42aab",
   "metadata": {},
   "source": [
    "### Importação dos dados do banco de dados:\n",
    "\n",
    "- Importando anúncios de emprego que ainda não foram analisados\n",
    "- Importando os benefícios mapeados e as skills/competências/tecnologias"
   ]
  },
  {
   "cell_type": "code",
   "execution_count": 117,
   "id": "ed7e37ae",
   "metadata": {},
   "outputs": [
    {
     "name": "stdout",
     "output_type": "stream",
     "text": [
      "   id                  job_title  \\\n",
      "0   6  Cientista de Dados Sênior   \n",
      "\n",
      "                                                                                                                                                                                      job_link  \\\n",
      "0  https://www.linkedin.com/jobs/search?keywords=%22Cientista%20De%20Dados%22&location=Goi%C3%A2nia&trk=public_jobs_jobs-search-bar_search-submit&position=3&pageNum=0&currentJobId=3628742869   \n",
      "\n",
      "  job_location job_state          company_name publication_date  \\\n",
      "0      Goiânia        GO  Empresa Confidencial             None   \n",
      "\n",
      "       experience work_time field function            category     link_id  \\\n",
      "0  Tempo integral      None  None     None  Cientista de Dados  3628742869   \n",
      "\n",
      "                                                                                                                                                                                                                                                                                                                                                                                                                                                                                                                                                                                                                                                                                                                                                                                                                                                                                                                                                                                                                                                                                                                                                                                                                                                                                                                                                                                                                                                                                                                                                                                                                                                                                                                                                                                                                                                                                                                                                                                                                                                                                                                                                                                                                                                                                                                                                                                                                                                                                                                                                                                                       job_desc  \\\n",
      "0  Contratação: CLT\\nFormato: Presencial\\nLocalidade: Goiânia- GO\\n Benefícios\\n ￭       Plano de Saúde subsidiado pela empresa para o titular;\\n￭       Opção de inclusão de dependentes no Plano de Saúde com desconto em folha com desconto em folha de pagamento;\\n￭       Assistência Odontológica (opcional);\\n￭       Opção de inclusão de dependentes no Plano de Assistência Odontológica com desconto em folha de pagamento;\\n￭       Vale Refeição ou Alimentação;\\n￭       Vale Transporte (opcional);\\n￭       Gympass (Acesso a mais de 700 academias em todo o Brasil com planos a partir de R$ 29,90 descontado em folha de pagamento);\\n￭       Opção de inclusão de dependentes no Gympass (até 03 dependentes - pago via cartão de crédito);\\n￭       Parcerias com grandes marcas de consumo;\\n￭       Convênios para descontos com instituições de ensino (graduação e pós-graduação) e escola de idiomas;\\n￭       Seguro de vida em grupo.\\nRESPONSABILIDADES E ATRIBUIÇÕES\\n Conhecimento sobre Arquitetura de Big Data, bancos de dados relacionais, colunares, banco de dados NoSQL, dados estruturados e não estruturados Exemplos: bancos de dados relacionais como o MySQL e PostgreSQL, bancos de dados NoSQL como o MongoDB e Cassandra, ou sistemas de armazenamento distribuídos como o Apache Hadoop e o Apache Spark. \\nPré-processamento dos dados \\nConhecimento em Machine Learning, Inteligência Artificial e NLP \\nConhecimento em Linguagem SQL \\nConhecimento sobre Tratamento, organização e limpeza e estruturação de dados \\nLinguagens de Programação que permitam a execução dessas tarefas \\nLinguagem Python \\nConhecimento em GIT e GITLAB \\nConhecimento em R e RStudio \\nAmbientes de desenvolvimento integrado (IDE): Jupyter Notebook \\nFerramentas de visualização de dados como por exemplo Matplotlib, Seaborn e Plotly para Python, e o ggplot2 para R. Além disso, ferramentas específicas de visualização, como o Tableau e o Power BI dentre outras é um diferencial. \\n REQUISITOS E QUALIFICAÇÕES\\n Curso Superior completo em área de Tecnologia da Informação, Administração, Matemática, Estatística, Economia; ou Curso Superior completo em áreas estatísticas correlatas.\\nCapacidade de entendimento do negócio para entender os dados (análise exploratória dos dados);\\nCompreender todas as fases do processo de desenvolvimento de projetos de mineração de dados; \\nCapacidade para entender os dados (análise exploratória dos dados);\\nCeticismo de suposições existentes – para descobrir soluções para os desafios de negócios;    \n",
      "\n",
      "  level_of_experience  work_model  \n",
      "0              Sênior  Presencial  \n"
     ]
    }
   ],
   "source": [
    "connection = ps.connect(\n",
    "    host='localhost',\n",
    "    database='tcc_pucrs',\n",
    "    user='postgres',\n",
    "    password='postgres'\n",
    ")\n",
    "\n",
    "cursor = connection.cursor()\n",
    "\n",
    "#apenas vagas que ainda não estão no banco de key words/não foram analisadas\n",
    "query = \"Select j.* from jobs j left join jobs_skills js on j.id=js.jobs_id where js.jobs_id is null;\"\n",
    "cursor.execute(query)\n",
    "result = cursor.fetchall()\n",
    "fields = [columns[0] for columns in cursor.description]\n",
    "df = pd.DataFrame(result, columns = fields)\n",
    "\n",
    "#Consulta a lista de skills da tabela key_skills\n",
    "query_2 = \"Select description from key_skills;\"\n",
    "cursor.execute(query_2)\n",
    "list_of_skills = cursor.fetchall()\n",
    "list_of_skills = [skill[0] for skill in list_of_skills]\n",
    "\n",
    "#Consulta os modelos de trabalho\n",
    "query_3 = \"Select description from work_models;\"\n",
    "cursor.execute(query_3)\n",
    "work_models = cursor.fetchall()\n",
    "work_models = [model[0] for model in work_models]\n",
    "\n",
    "#Consulta os benefícios\n",
    "query_4 = \"Select description from benefits;\"\n",
    "cursor.execute(query_4)\n",
    "benefits = cursor.fetchall()\n",
    "benefits = [b[0] for b in benefits]\n",
    "\n",
    "print(df)\n",
    "\n",
    "cursor.close()\n",
    "connection.close()\n",
    "\n",
    "list_of_skills.extend(work_models)\n",
    "list_of_skills.extend(benefits)\n",
    "list_of_skills = [skill.lower() for skill in list_of_skills]"
   ]
  },
  {
   "cell_type": "markdown",
   "id": "0826ff6c",
   "metadata": {},
   "source": [
    "## Função para remover pontuações (.,;-) das descrições de emprego\n",
    "- Estava dando erro na identificação de algumas palavras-chaves das vagas porque estava com ponto final (Ex: R.). Além disso, substituir a / por um espaço em branco"
   ]
  },
  {
   "cell_type": "code",
   "execution_count": 118,
   "id": "8b7aba62",
   "metadata": {},
   "outputs": [],
   "source": [
    "def clean_text(text):\n",
    "    \n",
    "    regex_expression = r'[.,;/-]' \n",
    "    cleaned_text = re.sub(regex_expression, ' ', text).lower()\n",
    "    return cleaned_text"
   ]
  },
  {
   "cell_type": "markdown",
   "id": "90eabe26",
   "metadata": {},
   "source": [
    "### Função para extração de palavras-chave"
   ]
  },
  {
   "cell_type": "code",
   "execution_count": 121,
   "id": "fa584696",
   "metadata": {},
   "outputs": [],
   "source": [
    "nlp = spacy.load(\"pt_core_news_sm\")\n",
    "\n",
    "dictionary_of_synonyms = {\n",
    "    \"power bi\": [\"powerbi\", \"power-bi\", \"microsoft power bi\"], #\n",
    "    \"python\": [\"py\", \"python3\", \"python2\", \"py3\", \"py2\"],\n",
    "    \"aws\": [\"amazon web services\", \"aws cloud\"],\n",
    "    \"jupyter notebook\": [\"jupyter\"],\n",
    "    \"agile\": [\"metodologias ágeis\", \"metodologias ageis\", \"agile methodologies\", \"metodologia ágil\", \"metodologia agil\"],\n",
    "    \"excel\": [\"microsoft excel\"],\n",
    "    \"microsoft sql server\": [\"sql server\", \"ms sql server\", \"sql server da microsoft\"],\n",
    "    \"árvores de decisão\": [\"árvore de decisão\", \"decision tree\", \"decision trees\"],\n",
    "    \"amazon redshift\": [\"redshift\"],\n",
    "    \"apache spark\": [\"spark\"],\n",
    "    \"deep learning\": [\"aprendizado profundo\"],\n",
    "    \"machine learning\": [\"aprendizado de máquina\"],\n",
    "    \"tensorflow\": [\"tensor flow\"],\n",
    "    \"data studio\": [\"google data studio\"],\n",
    "    \"bigquery\": [\"big query\"],\n",
    "    \"estatística\": [\"estatísticas\", \"statistics\"],\n",
    "    \"scikit-learn\": [\"scikit learn\"],\n",
    "    \"banco de dados\": [\"bancos de dados\"],\n",
    "    \"presencial\": [\"presencialmente\"],\n",
    "    \"home office\": [\"home-office\"],\n",
    "    \"remoto\": [\"remota\", \"remotos\", \"remotas\"],\n",
    "    \"híbrida\": [\"híbrido\"],\n",
    "    \"vale alimentação\": [\"alimentação\"],\n",
    "    \"vale refeição\": [\"refeição\"],\n",
    "    \"vale transporte\": [\"transporte\"],\n",
    "    \"auxílio pet\": [],\n",
    "    \"previdência\": [],\n",
    "    \"auxílio babá\": [],\n",
    "    \"licença parental\": [\"licença paterna\"],\n",
    "    \"desconto\": [],\n",
    "    \"assistência médica\": [\"plano de saúde\"],\n",
    "    \"gym pass\": [\"gympass\"],\n",
    "    \"décimo quarto\": [\"14°\"],\n",
    "    \"day off\": [\"dayoff\"],\n",
    "    \"odontológica\": [\"odontológico\", \"assistência odontológica\"],\n",
    "    \"seguro de vida\": [],\n",
    "    \"psicológico\": [],\n",
    "    \"auxílio creche\": [],\n",
    "    \"pentaho\": [\"pentaho data integration\"],\n",
    "    \"ppr\": [\"participação nos resultados\"],\n",
    "    \"plr\": [\"pl\", \"participação nos lucros\"]\n",
    "}\n",
    "\n",
    "\n",
    "reverse_synonyms = {syn: original for original, synonyms in dictionary_of_synonyms.items() for syn in synonyms}\n",
    "# Inicializando o PhraseMatcher\n",
    "phrase_matcher = PhraseMatcher(nlp.vocab, attr='LOWER')\n",
    "\n",
    "# Transforma cada skill em um documento do spaCy e adiciona ao PhraseMatcher\n",
    "phrase_patterns = [nlp.make_doc(skill) for skill in list_of_skills]\n",
    "phrase_matcher.add('SKILL', None, *phrase_patterns)\n",
    "\n",
    "\n",
    "# Corrige a função extract_skills para considerar sinônimos e preservar a forma original da habilidade\n",
    "def extract_skills(job_desc, list_of_skills):\n",
    "    extracted_skills = set()\n",
    "    document = nlp(job_desc) #processa o texto da descrição para criar o documento\n",
    "    \n",
    "    # Correspondências de frase\n",
    "    matches = phrase_matcher(document) #encontra os matchs/correspondências\n",
    "    \n",
    "    for match_id, start, end in matches: #para cada correspondência, extrai e verifica se é um sinônimo\n",
    "        span = document[start:end] #pega a skill. start e end do match do documento com a descrição inteira da vaga\n",
    "        skill = span.text\n",
    "        # Se a habilidade é um sinônimo, adicione a forma original da habilidade\n",
    "        if skill.lower() in reverse_synonyms:\n",
    "            extracted_skills.add(reverse_synonyms[skill.lower()])\n",
    "        else:\n",
    "            extracted_skills.add(skill)\n",
    "\n",
    "    return list(extracted_skills)"
   ]
  },
  {
   "cell_type": "markdown",
   "id": "bb1ea3ed",
   "metadata": {},
   "source": [
    "### Chamando a função de extração das skills/key words/benefícios para cada vaga"
   ]
  },
  {
   "cell_type": "code",
   "execution_count": 122,
   "id": "b99f3c1f",
   "metadata": {},
   "outputs": [
    {
     "name": "stdout",
     "output_type": "stream",
     "text": [
      "   id  \\\n",
      "0   6   \n",
      "\n",
      "                                                                                                                                                                                                                                                                                                                                                                                              extracted_skills  \n",
      "0  [matplotlib, r, hadoop, banco de dados, mongodb, mysql, estatística, odontológica, seguro de vida, desconto, mineração de dados, nosql, visualização de dados, postgresql, gym pass, plotly, assistência médica, apache spark, big data, tableau, power bi, vale transporte, sql, python, vale refeição, git, vale alimentação, presencial, gitlab, machine learning, cassandra, ggplot2, jupyter notebook]  \n"
     ]
    }
   ],
   "source": [
    "df_skills = pd.DataFrame(columns=['id', 'extracted_skills'])\n",
    "\n",
    "def call_function_extract_skills(row):\n",
    "    job_id = row[\"id\"]\n",
    "    job_desc = row[\"job_desc\"]\n",
    "    extracted_skills = extract_skills(clean_text(job_desc), list_of_skills)\n",
    "    return pd.Series({\"id\": job_id, \"extracted_skills\": extracted_skills})\n",
    "\n",
    "df_skills = df.apply(call_function_extract_skills, axis=1)\n",
    "print(df_skills)"
   ]
  },
  {
   "cell_type": "markdown",
   "id": "08c98304",
   "metadata": {},
   "source": [
    "### Inserindo os dados na tabela job_skills"
   ]
  },
  {
   "cell_type": "code",
   "execution_count": null,
   "id": "6c2c5a60",
   "metadata": {},
   "outputs": [],
   "source": [
    "connection = ps.connect(\n",
    "    host='localhost',\n",
    "    database='database', #sua database\n",
    "    user='user',#seu user\n",
    "    password='senha' #sua senha\n",
    ")\n",
    "\n",
    "cursor = connection.cursor()\n",
    "\n",
    "for _, row in df_skills.iterrows(): #Interage a cada linha\n",
    "    job_id = row['id']\n",
    "    extracted_skills = row['extracted_skills']\n",
    "    \n",
    "    for skill in extracted_skills:\n",
    "        if skill in [b.lower() for b in benefits]:\n",
    "            cursor.execute(\"SELECT id FROM benefits WHERE lower(description)=trim(%s)\", (skill.lower(),))\n",
    "            benefit_id = cursor.fetchone()[0]\n",
    "            query = f\"INSERT INTO jobs_benefits (jobs_id, benefits_id) VALUES ({job_id}, '{benefit_id}')\"\n",
    "        else:\n",
    "            cursor.execute(\"SELECT id FROM key_skills WHERE lower(description)=trim(%s)\", (skill.lower(),))\n",
    "            skill_id = cursor.fetchone()[0]\n",
    "            query = f\"INSERT INTO jobs_skills (jobs_id, key_skills_id) VALUES ({job_id}, '{skill_id}')\"\n",
    "            \n",
    "        cursor.execute(query)\n",
    "\n",
    "connection.commit()\n",
    "cursor.close()\n",
    "connection.close()"
   ]
  }
 ],
 "metadata": {
  "kernelspec": {
   "display_name": "Python 3 (ipykernel)",
   "language": "python",
   "name": "python3"
  },
  "language_info": {
   "codemirror_mode": {
    "name": "ipython",
    "version": 3
   },
   "file_extension": ".py",
   "mimetype": "text/x-python",
   "name": "python",
   "nbconvert_exporter": "python",
   "pygments_lexer": "ipython3",
   "version": "3.9.12"
  }
 },
 "nbformat": 4,
 "nbformat_minor": 5
}
